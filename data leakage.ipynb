{
 "cells": [
  {
   "cell_type": "markdown",
   "id": "bc85a4c6",
   "metadata": {},
   "source": [
    "#data leakage\n",
    "In this example, I have used make_classification to generate random\n",
    "data with 1000 samples and 20 features, with 15 informative features\n",
    "and 5 redundant features. I then split the data into training and\n",
    "testing sets with a 70/30 split. After that, I fit the MinMaxScalers\n",
    "separately on the training and testing test and then trained an SVM on\n",
    "both with the appropriate scaled features.\n",
    "By comparing the accuracies, you see that the accuracy with the\n",
    "scaler fit separately on X_train and X_test is higher than the\n",
    "accuracy with the scaler fit on all of X. This is because fitting the\n",
    "scaler on all of X can potentially introduce data leakage from the\n",
    "testing set into the training set, which can lead to overfitting and\n",
    "reduced accuracy on new, unseen data."
   ]
  },
  {
   "cell_type": "code",
   "execution_count": 31,
   "id": "e7db3695",
   "metadata": {},
   "outputs": [],
   "source": [
    "from sklearn.datasets import make_classification\n",
    "from sklearn.model_selection import train_test_split\n",
    "from sklearn.preprocessing import MinMaxScaler\n",
    "from sklearn.svm import SVC"
   ]
  },
  {
   "cell_type": "code",
   "execution_count": 33,
   "id": "fa56cdf0",
   "metadata": {},
   "outputs": [
    {
     "name": "stdout",
     "output_type": "stream",
     "text": [
      "Accuracy with scaler on all X: 0.931\n"
     ]
    }
   ],
   "source": [
    "X, y = make_classification(n_samples=1000, n_features=10, random_state=7)\n",
    "scaler_train = MinMaxScaler()\n",
    "X_scaled_all = scaler_all.fit_transform(X)\n",
    "X_train, X_test, y_train, y_test = train_test_split(X, y, test_size=0.3, random_state=7)\n",
    "svm_all = SVC(kernel='linear', C=1, random_state=7)\n",
    "svm_all.fit(X_scaled_all, y)\n",
    "accuracy_all_x = svm_all.score(X_scaled_all, y)\n",
    "\n",
    "# Train SVM on training set and evaluate accuracy on testing set with scaler separately on X_train and X_test\n",
    "\n",
    "# Compare accuracies\n",
    "print(\"Accuracy with scaler on all X: {:.3f}\".format(accuracy_all_x))"
   ]
  },
  {
   "cell_type": "code",
   "execution_count": 32,
   "id": "07110e1a",
   "metadata": {},
   "outputs": [
    {
     "name": "stdout",
     "output_type": "stream",
     "text": [
      "Accuracy with scaler separately on X_train and X_test: 0.933\n"
     ]
    }
   ],
   "source": [
    "X, y = make_classification(n_samples=1000, n_features=10, random_state=7)\n",
    "X_train, X_test, y_train, y_test = train_test_split(X, y, test_size=0.3, random_state=7)\n",
    "\n",
    "scaler_train = MinMaxScaler()\n",
    "X_train_scaled = scaler_train.fit_transform(X_train)\n",
    "\n",
    "scaler_test = MinMaxScaler()\n",
    "X_test_scaled = scaler_test.fit_transform(X_test)\n",
    "\n",
    "svm_all = SVC(kernel='linear', C=1, random_state=7)\n",
    "svm_all.fit(X_scaled_all, y)\n",
    "accuracy_all_x = svm_all.score(X_scaled_all, y)\n",
    "\n",
    "# Train SVM on training set and evaluate accuracy on testing set with scaler separately on X_train and X_test\n",
    "svm_separate = SVC(kernel='linear', C=1, random_state=7)\n",
    "svm_separate.fit(X_train_scaled, y_train)\n",
    "X_test_scaled_separate = scaler_train.transform(X_test) # Use the same scaler as the one fit on X_train\n",
    "accuracy_separate_x = svm_separate.score(X_test_scaled_separate, y_test)\n",
    "\n",
    "# Compare accuracies\n",
    "print(\"Accuracy with scaler separately on X_train and X_test: {:.3f}\".format(accuracy_separate_x))"
   ]
  },
  {
   "cell_type": "markdown",
   "id": "2b59fce6",
   "metadata": {},
   "source": [
    "as you see the accuracy of the separated fitted scaler is higher because it\n",
    "is without data leakage. In this case, the difference between accuracies is pretty little but we have to consider this issue which could help us to \n",
    "improve the performance of models.\n"
   ]
  }
 ],
 "metadata": {
  "kernelspec": {
   "display_name": "Python 3 (ipykernel)",
   "language": "python",
   "name": "python3"
  },
  "language_info": {
   "codemirror_mode": {
    "name": "ipython",
    "version": 3
   },
   "file_extension": ".py",
   "mimetype": "text/x-python",
   "name": "python",
   "nbconvert_exporter": "python",
   "pygments_lexer": "ipython3",
   "version": "3.9.7"
  }
 },
 "nbformat": 4,
 "nbformat_minor": 5
}
